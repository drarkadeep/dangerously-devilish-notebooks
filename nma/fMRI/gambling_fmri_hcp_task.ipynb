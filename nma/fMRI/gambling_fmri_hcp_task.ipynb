{
  "cells": [
    {
      "cell_type": "markdown",
      "metadata": {},
      "source": [
        "# HCP Dataset - Gambling Experiment"
      ]
    },
    {
      "cell_type": "markdown",
      "metadata": {
        "execution": {},
        "id": "EkHmhIwVvYFX"
      },
      "source": [
        "## Load HCP parcellated task data"
      ]
    },
    {
      "cell_type": "code",
      "execution_count": 2,
      "metadata": {
        "execution": {},
        "id": "K4BhggrtvYFg"
      },
      "outputs": [],
      "source": [
        "import os\n",
        "import numpy as np\n",
        "import pandas as pd\n",
        "import matplotlib.pyplot as plt\n",
        "%matplotlib inline\n",
        "%config InlineBackend.figure_format = 'retina'"
      ]
    },
    {
      "cell_type": "code",
      "execution_count": 3,
      "metadata": {
        "execution": {},
        "id": "uyoDeJ50vYFi"
      },
      "outputs": [],
      "source": [
        "N_SUBJECTS = 100\n",
        "N_PARCELS = 360\n",
        "TR = 0.72\n",
        "HEMIS = [\"Right\", \"Left\"]\n",
        "RUNS   = ['LR','RL']\n",
        "N_RUNS = 2\n",
        "EXPERIMENTS = {\n",
        "    'MOTOR'      : {'cond':['lf','rf','lh','rh','t','cue']},\n",
        "    'WM'         : {'cond':['0bk_body','0bk_faces','0bk_places','0bk_tools','2bk_body','2bk_faces','2bk_places','2bk_tools']},\n",
        "    'EMOTION'    : {'cond':['fear','neut']},\n",
        "    'GAMBLING'   : {'cond':['loss','win']},\n",
        "    'LANGUAGE'   : {'cond':['math','story']},\n",
        "    'RELATIONAL' : {'cond':['match','relation']},\n",
        "    'SOCIAL'     : {'cond':['ment','rnd']}\n",
        "}"
      ]
    },
    {
      "cell_type": "markdown",
      "metadata": {
        "execution": {},
        "id": "F6a_kKpCvYFp"
      },
      "source": [
        "# Relevant ROI normalised timeseries plot with Trial Data (Loss, Win, Neutral)"
      ]
    },
    {
      "cell_type": "code",
      "execution_count": 13,
      "metadata": {},
      "outputs": [],
      "source": [
        "# load the subject list\n",
        "HCP_DIR = \"./hcp_task\"\n",
        "subjects = np.loadtxt(os.path.join(HCP_DIR, 'subjects_list.txt'), dtype='str')"
      ]
    },
    {
      "cell_type": "code",
      "execution_count": 14,
      "metadata": {},
      "outputs": [],
      "source": [
        "# set basic variables\n",
        "subject = subjects[1]\n",
        "experiment = \"GAMBLING\"\n",
        "run = 1"
      ]
    },
    {
      "cell_type": "code",
      "execution_count": 15,
      "metadata": {},
      "outputs": [],
      "source": [
        "# a function to load timeseries data\n",
        "def load_single_timeseries(subject, experiment, run):\n",
        "  bold_run  = RUNS[run]\n",
        "  bold_path = f\"{HCP_DIR}/subjects/{subject}/{experiment}/tfMRI_{experiment}_{bold_run}\"\n",
        "  bold_file = \"data.npy\"\n",
        "  ts = np.load(f\"{bold_path}/{bold_file}\")\n",
        "  ts -= ts.mean(axis=1, keepdims=True) # normalising the data\n",
        "  return ts\n",
        "\n",
        "data = load_single_timeseries(subject, experiment, run)"
      ]
    },
    {
      "cell_type": "code",
      "execution_count": 16,
      "metadata": {},
      "outputs": [
        {
          "name": "stdout",
          "output_type": "stream",
          "text": [
            "['Visual1' 'Visual2' 'Somatomotor' 'Cingulo-Oper' 'Language' 'Default'\n",
            " 'Frontopariet' 'Auditory' 'Dorsal-atten' 'Posterior-Mu' 'Orbito-Affec'\n",
            " 'Ventral-Mult']\n"
          ]
        }
      ],
      "source": [
        "# load ROI data and printing the unique values\n",
        "regions = np.load(f\"{HCP_DIR}/regions.npy\").T\n",
        "df = pd.DataFrame({'network' : regions[1],\n",
        "                   'hemi' : ['Right']*int(N_PARCELS/2) + ['Left']*int(N_PARCELS/2)\n",
        "                   })\n",
        "print(df['network'].unique())"
      ]
    },
    {
      "cell_type": "code",
      "execution_count": 17,
      "metadata": {},
      "outputs": [],
      "source": [
        "#choosing a biologically relevant ROI\n",
        "relevant_indices = df[df[\"network\"] == \"Orbito-Affec\"].index.values\n",
        "relevant_data_mean = data[relevant_indices, :].mean(axis=0)"
      ]
    },
    {
      "cell_type": "code",
      "execution_count": 18,
      "metadata": {},
      "outputs": [],
      "source": [
        "# a function to load trial type data\n",
        "def load_trials_type(subject, experiment, run):\n",
        "  frames_dict = {}\n",
        "  task_key = f'tfMRI_{experiment}_{RUNS[run]}'\n",
        "  EXPERIMENTS[\"GAMBLING\"]['cond'].append(\"neut\")\n",
        "  for cond in EXPERIMENTS[experiment]['cond']:\n",
        "    ev_file  = f\"{HCP_DIR}/subjects/{subject}/{experiment}/{task_key}/EVs/{cond}_event.txt\"\n",
        "    ev_array = np.loadtxt(ev_file, ndmin=2, unpack=True)\n",
        "    ev       = dict(zip([\"onset\", \"duration\", \"amplitude\"], ev_array))\n",
        "    start = np.floor(ev[\"onset\"] / TR).astype(int)\n",
        "    duration = np.ceil(ev[\"duration\"] / TR).astype(int)\n",
        "    frames = [s + np.arange(0, d) for s, d in zip(start, duration)]\n",
        "    frames_dict[cond] = frames\n",
        "\n",
        "  return frames_dict\n"
      ]
    },
    {
      "cell_type": "code",
      "execution_count": 19,
      "metadata": {},
      "outputs": [
        {
          "data": {
            "image/png": "[encoded data removed]",
            "text/plain": [
              "<Figure size 640x480 with 1 Axes>"
            ]
          },
          "metadata": {
            "image/png": {
              "height": 413,
              "width": 563
            }
          },
          "output_type": "display_data"
        }
      ],
      "source": [
        "# plotting the trial data on relevant data mean\n",
        "plt.bar(np.arange(data.shape[1]), relevant_data_mean)\n",
        "trials = load_trials_type(subject, experiment, run)\n",
        "for cond in trials:\n",
        "    for arr in trials[cond]:\n",
        "        if cond==\"loss\":\n",
        "            plt.axvline(arr[0],color='r')\n",
        "        elif cond==\"win\":\n",
        "            plt.axvline(arr[0],color='g')\n",
        "        else:\n",
        "            plt.axvline(arr[0],color='y')"
      ]
    },
    {
      "cell_type": "markdown",
      "metadata": {},
      "source": [
        "# USELESS CODE DUMPYARD\n",
        "#### (I mean, these are useless at the moment, might be quite useful in the near future)"
      ]
    },
    {
      "cell_type": "markdown",
      "metadata": {},
      "source": [
        "### Data Importer (in case you don't have them locally)"
      ]
    },
    {
      "cell_type": "code",
      "execution_count": null,
      "metadata": {},
      "outputs": [],
      "source": [
        "# from collections import Counter\n",
        "\n",
        "# def get_subject_data(subject_id, column_number):\n",
        "#     file_name = \"demo_data.csv\"\n",
        "#     url = \"https://raw.githubusercontent.com/drarkadeep/assets/main/demo_data.csv\"\n",
        "\n",
        "#     try:\n",
        "#         if not os.path.exists(file_name):\n",
        "#             response = requests.get(url)\n",
        "#             response.raise_for_status()\n",
        "#             with open(file_name, 'wb') as f:\n",
        "#                 f.write(response.content)\n",
        "\n",
        "#         df = pd.read_csv(file_name)\n",
        "\n",
        "#         if column_number >= len(df.columns):\n",
        "#             raise ValueError(f\"Column number {column_number} is out of range.\")\n",
        "\n",
        "#         row = df[df.iloc[:, 0] == int(subject_id)]\n",
        "\n",
        "#         if row.empty:\n",
        "#             print(f\"No data found for subject ID: {subject_id}\")\n",
        "#             return None\n",
        "\n",
        "#         return row.iloc[0, column_number]\n",
        "\n",
        "#     except requests.RequestException as e:\n",
        "#         print(f\"Error downloading the CSV: {str(e)}\")\n",
        "#         return None\n",
        "#     except pd.errors.EmptyDataError:\n",
        "#         print(\"Error: The CSV file is empty.\")\n",
        "#         return None\n",
        "#     except Exception as e:\n",
        "#         print(f\"An error occurred: {str(e)}\")\n",
        "#         return None\n",
        "\n",
        "# def get_subject_gender(subject_id):\n",
        "#     gender = get_subject_data(subject_id, column_number=3)\n",
        "#     return gender\n",
        "\n",
        "# def get_subject_age(subject_id):\n",
        "#     gender = get_subject_data(subject_id, column_number=4)\n",
        "#     return gender\n",
        "\n",
        "# def basic_demographic_analysis(data):\n",
        "#   element_counts = Counter(data)\n",
        "#   return element_counts\n",
        "\n",
        "# print(get_subject_gender(subjects[1]))\n",
        "# print(get_subject_age(subjects[1]))\n",
        "\n",
        "# gender_data = []\n",
        "# age_data = []\n",
        "# for i in range(len(subjects)):\n",
        "#     gender_data.append(get_subject_gender(subjects[i]))\n",
        "# for i in range(len(subjects)):\n",
        "#     age_data.append(get_subject_age(subjects[i]))\n",
        "\n",
        "# gender_counts = basic_demographic_analysis(gender_data, 0)\n",
        "# print(gender_counts)\n",
        "# age_counts = basic_demographic_analysis(age_data, 1)\n",
        "# print(age_counts)"
      ]
    },
    {
      "cell_type": "code",
      "execution_count": 5,
      "metadata": {
        "cellView": "form",
        "execution": {},
        "id": "ICjNLSKAvYFk"
      },
      "outputs": [],
      "source": [
        "# # @title Download data file\n",
        "# import os, requests\n",
        "\n",
        "# fname = \"hcp_task.tgz\"\n",
        "# url = \"https://osf.io/2y3fw/download\"\n",
        "\n",
        "# if not os.path.isfile(fname):\n",
        "#   try:\n",
        "#     r = requests.get(url)\n",
        "#   except requests.ConnectionError:\n",
        "#     print(\"!!! Failed to download data !!!\")\n",
        "#   else:\n",
        "#     if r.status_code != requests.codes.ok:\n",
        "#       print(\"!!! Failed to download data !!!\")\n",
        "#     else:\n",
        "#       with open(fname, \"wb\") as fid:\n",
        "#         fid.write(r.content)\n",
        "# The download cells will store the data in nested directories starting here:\n",
        "# HCP_DIR = \"./hcp_task\"\n",
        "\n",
        "# # importing the \"tarfile\" module\n",
        "# import tarfile\n",
        "\n",
        "# if not os.path.exists(HCP_DIR):\n",
        "#     # If the folder does not exist, create it and extract the tar file\n",
        "#     os.makedirs(HCP_DIR)\n",
        "#     # open file\n",
        "#     with tarfile.open(fname) as tfile:\n",
        "#       # extracting file\n",
        "#       tfile.extractall('.')"
      ]
    },
    {
      "cell_type": "markdown",
      "metadata": {
        "execution": {},
        "id": "1aKVwwkLvYFp"
      },
      "source": [
        "### Helper functions"
      ]
    },
    {
      "cell_type": "code",
      "execution_count": 8,
      "metadata": {
        "execution": {},
        "id": "hhSe6ihgvYFp"
      },
      "outputs": [],
      "source": [
        "# def load_single_timeseries(subject, experiment, run, remove_mean=True):\n",
        "#   \"\"\"Load timeseries data for a single subject and single run.\n",
        "\n",
        "#   Args:\n",
        "#     subject (str):      subject ID to load\n",
        "#     experiment (str):   Name of experiment\n",
        "#     run (int):          (0 or 1)\n",
        "#     remove_mean (bool): If True, subtract the parcel-wise mean (typically the mean BOLD signal is not of interest)\n",
        "\n",
        "#   Returns\n",
        "#     ts (n_parcel x n_timepoint array): Array of BOLD data values\n",
        "\n",
        "#   \"\"\"\n",
        "#   bold_run  = RUNS[run]\n",
        "#   bold_path = f\"{HCP_DIR}/subjects/{subject}/{experiment}/tfMRI_{experiment}_{bold_run}\"\n",
        "#   bold_file = \"data.npy\"\n",
        "#   ts = np.load(f\"{bold_path}/{bold_file}\")\n",
        "#   if remove_mean:\n",
        "#     ts -= ts.mean(axis=1, keepdims=True)\n",
        "#   return ts\n",
        "\n",
        "\n",
        "# def load_evs(subject, experiment, run):\n",
        "#   \"\"\"Load EVs (explanatory variables) data for one task experiment.\n",
        "\n",
        "#   Args:\n",
        "#     subject (str): subject ID to load\n",
        "#     experiment (str) : Name of experiment\n",
        "#     run (int): 0 or 1\n",
        "\n",
        "#   Returns\n",
        "#     evs (list of lists): A list of frames associated with each condition\n",
        "\n",
        "#   \"\"\"\n",
        "#   frames_list = []\n",
        "#   task_key = f'tfMRI_{experiment}_{RUNS[run]}'\n",
        "#   for cond in EXPERIMENTS[experiment]['cond']:\n",
        "#     ev_file  = f\"{HCP_DIR}/subjects/{subject}/{experiment}/{task_key}/EVs/{cond}.txt\"\n",
        "#     ev_array = np.loadtxt(ev_file, ndmin=2, unpack=True)\n",
        "#     ev       = dict(zip([\"onset\", \"duration\", \"amplitude\"], ev_array))\n",
        "#     # Determine when trial starts, rounded down\n",
        "#     start = np.floor(ev[\"onset\"] / TR).astype(int)\n",
        "#     # Use trial duration to determine how many frames to include for trial\n",
        "#     duration = np.ceil(ev[\"duration\"] / TR).astype(int)\n",
        "#     # Take the range of frames that correspond to this specific trial\n",
        "#     frames = [s + np.arange(0, d) for s, d in zip(start, duration)]\n",
        "#     frames_list.append(frames)\n",
        "\n",
        "#   return frames_list\n",
        "\n",
        "# def load_evs_type(subject, experiment, run):\n",
        "#   \"\"\"Load EVs (explanatory variables) data for one task experiment.\n",
        "\n",
        "#   Args:\n",
        "#     subject (str): subject ID to load\n",
        "#     experiment (str) : Name of experiment\n",
        "#     run (int): 0 or 1\n",
        "\n",
        "#   Returns:\n",
        "#     evs (dict): A dictionary of frames associated with each condition, keyed by condition name\n",
        "\n",
        "#   \"\"\"\n",
        "#   frames_dict = {}\n",
        "#   task_key = f'tfMRI_{experiment}_{RUNS[run]}'\n",
        "#   for cond in EXPERIMENTS[experiment]['cond']:\n",
        "#     ev_file  = f\"{HCP_DIR}/subjects/{subject}/{experiment}/{task_key}/EVs/{cond}.txt\"\n",
        "#     ev_array = np.loadtxt(ev_file, ndmin=2, unpack=True)\n",
        "#     ev       = dict(zip([\"onset\", \"duration\", \"amplitude\"], ev_array))\n",
        "#     # Determine when trial starts, rounded down\n",
        "#     start = np.floor(ev[\"onset\"] / TR).astype(int)\n",
        "#     # Use trial duration to determine how many frames to include for trial\n",
        "#     duration = np.ceil(ev[\"duration\"] / TR).astype(int)\n",
        "#     print(start)\n",
        "#     #print(duration)\n",
        "#     # Take the range of frames that correspond to this specific trial\n",
        "#     frames = [s + np.arange(0, d) for s, d in zip(start, duration)]\n",
        "#     frames_dict[cond] = frames\n",
        "\n",
        "#   return frames_dict\n"
      ]
    },
    {
      "cell_type": "markdown",
      "metadata": {},
      "source": [
        "### OG NMA notebook stuff"
      ]
    },
    {
      "cell_type": "code",
      "execution_count": 87,
      "metadata": {
        "colab": {
          "base_uri": "https://localhost:8080/",
          "height": 592
        },
        "execution": {},
        "id": "K2hnDajNvYFt",
        "outputId": "13dee3b5-58c5-4a87-e0d1-dcd6e27ce416"
      },
      "outputs": [],
      "source": [
        "\n",
        "# import seaborn as sns\n",
        "# # we need a little function that averages all frames from any given condition\n",
        "# def average_frames(data, evs, experiment, cond):\n",
        "#   idx = EXPERIMENTS[experiment]['cond'].index(cond)\n",
        "#   return np.mean(np.concatenate([np.mean(data[:, evs[idx][i]], axis=1, keepdims=True) for i in range(len(evs[idx]))], axis=-1), axis=1)\n",
        "\n",
        "\n",
        "# lf_activity = average_frames(data, evs, my_exp, 'loss')\n",
        "# rf_activity = average_frames(data, evs, my_exp, 'win')\n",
        "# contrast = lf_activity - rf_activity  # difference between left and right hand movement\n",
        "# # Plot activity level in each ROI for both conditions\n",
        "# plt.plot(lf_activity,label='left foot')\n",
        "# plt.plot(rf_activity,label='right foot')\n",
        "# plt.xlabel('ROI')\n",
        "# plt.ylabel('activity')\n",
        "# plt.legend()\n",
        "# plt.show()\n",
        "# df = pd.DataFrame({'lf_activity' : lf_activity,\n",
        "#                    'rf_activity' : rf_activity,\n",
        "#                    'network' : region_info['network'],\n",
        "#                    'hemi' : region_info['hemi']})\n",
        "\n",
        "# fig, (ax1, ax2) = plt.subplots(1, 2)\n",
        "# sns.barplot(y='network', x='lf_activity', data=df, hue='hemi',ax=ax1)\n",
        "# sns.barplot(y='network', x='rf_activity', data=df, hue='hemi',ax=ax2)\n",
        "# plt.show()\n",
        "\n",
        "# group_contrast = 0\n",
        "# for s in subjects:\n",
        "#   for r in [0, 1]:\n",
        "#     data = load_single_timeseries(subject=s, experiment=my_exp,\n",
        "#                                   run=r, remove_mean=True)\n",
        "#     evs = load_evs(subject=s, experiment=my_exp,run=r)\n",
        "\n",
        "#     lf_activity = average_frames(data, evs, my_exp, 'loss')\n",
        "#     rf_activity = average_frames(data, evs, my_exp, 'win')\n",
        "\n",
        "#     contrast = lf_activity - rf_activity\n",
        "#     group_contrast += contrast\n",
        "\n",
        "# group_contrast /= (len(subjects)*2)  # remember: 2 sessions per subject\n",
        "\n",
        "# df = pd.DataFrame({'contrast' : group_contrast,\n",
        "#                    'network' : region_info['network'],\n",
        "#                    'hemi' : region_info['hemi']\n",
        "#                    })\n",
        "# # we will plot the left foot minus right foot contrast so we only need one plot\n",
        "# plt.figure()\n",
        "# sns.barplot(y='network', x='contrast', data=df, hue='hemi')\n",
        "# plt.show()"
      ]
    },
    {
      "cell_type": "markdown",
      "metadata": {
        "execution": {},
        "id": "ddPq6T29vYFu"
      },
      "source": [
        "### Visualising the results on a brain\n",
        "\n",
        "Finally, we will visualise these resuts on the cortical surface of an average brain."
      ]
    },
    {
      "cell_type": "code",
      "execution_count": 10,
      "metadata": {
        "execution": {},
        "id": "u1VPFnnPvYFu"
      },
      "outputs": [],
      "source": [
        "# # @title NMA provides an atlas. Run this cell to download it\n",
        "# import os, requests\n",
        "\n",
        "# # NMA provides an atlas\n",
        "# fname = f\"{HCP_DIR}/atlas.npz\"\n",
        "# url = \"https://osf.io/j5kuc/download\"\n",
        "\n",
        "# if not os.path.isfile(fname):\n",
        "#   try:\n",
        "#     r = requests.get(url)\n",
        "#   except requests.ConnectionError:\n",
        "#     print(\"!!! Failed to download data !!!\")\n",
        "#   else:\n",
        "#     if r.status_code != requests.codes.ok:\n",
        "#       print(\"!!! Failed to download data !!!\")\n",
        "#     else:\n",
        "#       with open(fname, \"wb\") as fid:\n",
        "#         fid.write(r.content)\n",
        "\n",
        "# with np.load(fname) as dobj:\n",
        "#   atlas = dict(**dobj)\n",
        "\n",
        "# # This uses the nilearn package\n",
        "# from nilearn import plotting, datasets\n",
        "\n",
        "# # Try both hemispheres (L->R and left->right)\n",
        "# fsaverage = datasets.fetch_surf_fsaverage()\n",
        "# surf_contrast = group_contrast[atlas[\"labels_L\"]]\n",
        "# plotting.view_surf(fsaverage['infl_left'],\n",
        "#                    surf_contrast,\n",
        "#                    vmax=20)"
      ]
    }
  ],
  "metadata": {
    "colab": {
      "include_colab_link": true,
      "name": "load_hcp_task_with_behaviour",
      "provenance": []
    },
    "kernel": {
      "display_name": "Python 3",
      "language": "python",
      "name": "python3"
    },
    "kernelspec": {
      "display_name": "Python 3",
      "name": "python3"
    },
    "language_info": {
      "codemirror_mode": {
        "name": "ipython",
        "version": 3
      },
      "file_extension": ".py",
      "mimetype": "text/x-python",
      "name": "python",
      "nbconvert_exporter": "python",
      "pygments_lexer": "ipython3",
      "version": "3.11.9"
    }
  },
  "nbformat": 4,
  "nbformat_minor": 0
}
